{
  "cells": [
    {
      "cell_type": "code",
      "execution_count": null,
      "metadata": {
        "id": "rxVE_LNMiODH"
      },
      "outputs": [],
      "source": [
        "#importing libraries\n",
        "import pandas as pd\n",
        "import numpy as np\n",
        "import matplotlib.pyplot as plt\n",
        "import seaborn as sns\n",
        "sns.set(style=\"whitegrid\")"
      ]
    },
    {
      "cell_type": "code",
      "execution_count": 15,
      "metadata": {
        "colab": {
          "base_uri": "https://localhost:8080/"
        },
        "id": "R2OGl0qFkaOT",
        "outputId": "1e5c0e92-779c-476f-adbd-1cb4107f2d7b"
      },
      "outputs": [
        {
          "output_type": "stream",
          "name": "stdout",
          "text": [
            "Drive already mounted at /content/drive; to attempt to forcibly remount, call drive.mount(\"/content/drive\", force_remount=True).\n"
          ]
        }
      ],
      "source": [
        "#loading datasets\n",
        "from google.colab import drive\n",
        "drive.mount('/content/drive')"
      ]
    },
    {
      "cell_type": "code",
      "source": [
        "youtube_df= pd.read_csv('/content/drive/MyDrive/Oasis_project3_L1/YouTube.csv')\n",
        "airbnb_df= pd.read_csv('/content/drive/MyDrive/Oasis_project3_L1/Airbnb.csv')"
      ],
      "metadata": {
        "id": "TjqUf9h7o-uP"
      },
      "execution_count": 19,
      "outputs": []
    },
    {
      "cell_type": "code",
      "source": [
        "#cleaning Airbnb dataset\n",
        "airbnb_df.info()\n",
        "airbnb_df.head()\n",
        "airbnb_df.describe()\n",
        "\n",
        "airbnb_df.drop_duplicates(inplace=True)\n",
        "\n",
        "airbnb_df.fillna({\n",
        "    'name':'Unknown',\n",
        "    'host_name': 'Unknown',\n",
        "    'reviews_per_month':airbnb_df['reviews_per_month'].median(),\n",
        "    'last_review':airbnb_df['last_review'].mode()[0] if 'last_review' in airbnb_df.columns else None\n",
        "    }, inplace=True)\n",
        "\n",
        "airbnb_df.columns= airbnb_df.columns.str.lower().str.strip().str.replace(\" \",\"_\")\n",
        "\n",
        "if 'last_review' in airbnb_df.columns:\n",
        "  airbnb_df['last_review']= pd.to_datetime(airbnb_df['last_review'],errors='coerce')\n",
        "\n",
        "  if 'price' in airbnb_df.columns:\n",
        "    q1= airbnb_df['price'].quantile(0.25)\n",
        "    q3= airbnb_df['price'].quantile(0.75)\n",
        "    iqr= q3-q1\n",
        "    lower_bound= q1-1.5*iqr\n",
        "    upper_bound= q3+1.5*iqr\n",
        "    airbnb_df= airbnb_df[(airbnb_df['price'] >= lower_bound) & (airbnb_df['price']<= upper_bound)]\n",
        ""
      ],
      "metadata": {
        "colab": {
          "base_uri": "https://localhost:8080/"
        },
        "id": "WcVzcIqTp-Mq",
        "outputId": "45d938f6-0263-44f3-d677-05e47b1b20be"
      },
      "execution_count": 25,
      "outputs": [
        {
          "output_type": "stream",
          "name": "stdout",
          "text": [
            "<class 'pandas.core.frame.DataFrame'>\n",
            "Index: 37 entries, 2860 to 48486\n",
            "Data columns (total 16 columns):\n",
            " #   Column                          Non-Null Count  Dtype         \n",
            "---  ------                          --------------  -----         \n",
            " 0   id                              37 non-null     int64         \n",
            " 1   name                            37 non-null     object        \n",
            " 2   host_id                         37 non-null     int64         \n",
            " 3   host_name                       37 non-null     object        \n",
            " 4   neighbourhood_group             37 non-null     object        \n",
            " 5   neighbourhood                   37 non-null     object        \n",
            " 6   latitude                        37 non-null     float64       \n",
            " 7   longitude                       37 non-null     float64       \n",
            " 8   room_type                       37 non-null     object        \n",
            " 9   price                           37 non-null     int64         \n",
            " 10  minimum_nights                  37 non-null     int64         \n",
            " 11  number_of_reviews               37 non-null     int64         \n",
            " 12  last_review                     37 non-null     datetime64[ns]\n",
            " 13  reviews_per_month               37 non-null     float64       \n",
            " 14  calculated_host_listings_count  37 non-null     int64         \n",
            " 15  availability_365                37 non-null     int64         \n",
            "dtypes: datetime64[ns](1), float64(3), int64(7), object(5)\n",
            "memory usage: 4.9+ KB\n"
          ]
        }
      ]
    },
    {
      "cell_type": "code",
      "source": [
        "#cleaning youtube dataset\n",
        "youtube_df.info()\n",
        "youtube_df.head()\n",
        "youtube_df.describe()\n",
        "\n",
        "youtube_df.drop_duplicates(inplace=True)\n",
        "\n",
        "youtube_df.fillna({\n",
        "    'tags': 'No Tags',\n",
        "    'description': 'no Description',\n",
        "    'comment_count': youtube_df['comment_count'].median(),\n",
        "}, inplace=True)\n",
        "\n",
        "youtube_df.columns= youtube_df.columns.str.lower().str.strip().str.replace(\" \",\"_\")\n",
        "\n",
        "if 'publish_time' in youtube_df.columns:\n",
        "  youtube_df['publish_time']= pd.to_datetime(youtube_df['publish_time'],errors='coerce')\n",
        "\n",
        "if 'views' in youtube_df.columns:\n",
        "  q1= youtube_df['views'].quantile(0.25)\n",
        "  q3= youtube_df['views'].quantile(0.75)\n",
        "  iqr= q3-q1\n",
        "  lower_bound= q1-1.5*iqr\n",
        "  upper_bound= q3+1.5*iqr\n",
        "  youtube_df= youtube_df[(youtube_df['views']>=lower_bound)& (youtube_df['views']<=upper_bound)]\n"
      ],
      "metadata": {
        "colab": {
          "base_uri": "https://localhost:8080/"
        },
        "id": "ZrHGvC7Vw1dy",
        "outputId": "3bf18712-4827-413c-a656-10ee983f0e0e"
      },
      "execution_count": 29,
      "outputs": [
        {
          "output_type": "stream",
          "name": "stdout",
          "text": [
            "<class 'pandas.core.frame.DataFrame'>\n",
            "Index: 40901 entries, 0 to 40948\n",
            "Data columns (total 16 columns):\n",
            " #   Column                  Non-Null Count  Dtype              \n",
            "---  ------                  --------------  -----              \n",
            " 0   video_id                40901 non-null  object             \n",
            " 1   trending_date           40901 non-null  object             \n",
            " 2   title                   40901 non-null  object             \n",
            " 3   channel_title           40901 non-null  object             \n",
            " 4   category_id             40901 non-null  int64              \n",
            " 5   publish_time            40901 non-null  datetime64[ns, UTC]\n",
            " 6   tags                    40901 non-null  object             \n",
            " 7   views                   40901 non-null  int64              \n",
            " 8   likes                   40901 non-null  int64              \n",
            " 9   dislikes                40901 non-null  int64              \n",
            " 10  comment_count           40901 non-null  int64              \n",
            " 11  thumbnail_link          40901 non-null  object             \n",
            " 12  comments_disabled       40901 non-null  bool               \n",
            " 13  ratings_disabled        40901 non-null  bool               \n",
            " 14  video_error_or_removed  40901 non-null  bool               \n",
            " 15  description             40901 non-null  object             \n",
            "dtypes: bool(3), datetime64[ns, UTC](1), int64(5), object(7)\n",
            "memory usage: 4.5+ MB\n"
          ]
        }
      ]
    },
    {
      "cell_type": "code",
      "source": [
        "print(\"Cleaned Airbnb Data: \")\n",
        "print(airbnb_df.info())\n",
        "\n",
        "print(\"\\nCleaned YouTube Data: \")\n",
        "print(youtube_df.info())\n",
        "\n",
        "airbnb_df.to_csv(\"cleaned_airbnb.csv\", index=False)\n",
        "youtube_df.to_csv(\"cleaned_youtube.csv\", index=False)\n",
        "\n",
        "from google.colab import files\n",
        "files.download(\"cleaned_airbnb.csv\")\n",
        "files.download(\"cleaned_youtube.csv\")"
      ],
      "metadata": {
        "colab": {
          "base_uri": "https://localhost:8080/",
          "height": 902
        },
        "id": "E8Xmse-G0rqS",
        "outputId": "89ce2feb-d7d3-4b8c-d4c3-d2a1eac4bc6e"
      },
      "execution_count": 31,
      "outputs": [
        {
          "output_type": "stream",
          "name": "stdout",
          "text": [
            "Cleaned Airbnb Data: \n",
            "<class 'pandas.core.frame.DataFrame'>\n",
            "Index: 37 entries, 2860 to 48486\n",
            "Data columns (total 16 columns):\n",
            " #   Column                          Non-Null Count  Dtype         \n",
            "---  ------                          --------------  -----         \n",
            " 0   id                              37 non-null     int64         \n",
            " 1   name                            37 non-null     object        \n",
            " 2   host_id                         37 non-null     int64         \n",
            " 3   host_name                       37 non-null     object        \n",
            " 4   neighbourhood_group             37 non-null     object        \n",
            " 5   neighbourhood                   37 non-null     object        \n",
            " 6   latitude                        37 non-null     float64       \n",
            " 7   longitude                       37 non-null     float64       \n",
            " 8   room_type                       37 non-null     object        \n",
            " 9   price                           37 non-null     int64         \n",
            " 10  minimum_nights                  37 non-null     int64         \n",
            " 11  number_of_reviews               37 non-null     int64         \n",
            " 12  last_review                     37 non-null     datetime64[ns]\n",
            " 13  reviews_per_month               37 non-null     float64       \n",
            " 14  calculated_host_listings_count  37 non-null     int64         \n",
            " 15  availability_365                37 non-null     int64         \n",
            "dtypes: datetime64[ns](1), float64(3), int64(7), object(5)\n",
            "memory usage: 4.9+ KB\n",
            "None\n",
            "\n",
            "Cleaned YouTube Data: \n",
            "<class 'pandas.core.frame.DataFrame'>\n",
            "Index: 36404 entries, 0 to 40946\n",
            "Data columns (total 16 columns):\n",
            " #   Column                  Non-Null Count  Dtype              \n",
            "---  ------                  --------------  -----              \n",
            " 0   video_id                36404 non-null  object             \n",
            " 1   trending_date           36404 non-null  object             \n",
            " 2   title                   36404 non-null  object             \n",
            " 3   channel_title           36404 non-null  object             \n",
            " 4   category_id             36404 non-null  int64              \n",
            " 5   publish_time            36404 non-null  datetime64[ns, UTC]\n",
            " 6   tags                    36404 non-null  object             \n",
            " 7   views                   36404 non-null  int64              \n",
            " 8   likes                   36404 non-null  int64              \n",
            " 9   dislikes                36404 non-null  int64              \n",
            " 10  comment_count           36404 non-null  int64              \n",
            " 11  thumbnail_link          36404 non-null  object             \n",
            " 12  comments_disabled       36404 non-null  bool               \n",
            " 13  ratings_disabled        36404 non-null  bool               \n",
            " 14  video_error_or_removed  36404 non-null  bool               \n",
            " 15  description             36404 non-null  object             \n",
            "dtypes: bool(3), datetime64[ns, UTC](1), int64(5), object(7)\n",
            "memory usage: 4.0+ MB\n",
            "None\n"
          ]
        },
        {
          "output_type": "display_data",
          "data": {
            "text/plain": [
              "<IPython.core.display.Javascript object>"
            ],
            "application/javascript": [
              "\n",
              "    async function download(id, filename, size) {\n",
              "      if (!google.colab.kernel.accessAllowed) {\n",
              "        return;\n",
              "      }\n",
              "      const div = document.createElement('div');\n",
              "      const label = document.createElement('label');\n",
              "      label.textContent = `Downloading \"${filename}\": `;\n",
              "      div.appendChild(label);\n",
              "      const progress = document.createElement('progress');\n",
              "      progress.max = size;\n",
              "      div.appendChild(progress);\n",
              "      document.body.appendChild(div);\n",
              "\n",
              "      const buffers = [];\n",
              "      let downloaded = 0;\n",
              "\n",
              "      const channel = await google.colab.kernel.comms.open(id);\n",
              "      // Send a message to notify the kernel that we're ready.\n",
              "      channel.send({})\n",
              "\n",
              "      for await (const message of channel.messages) {\n",
              "        // Send a message to notify the kernel that we're ready.\n",
              "        channel.send({})\n",
              "        if (message.buffers) {\n",
              "          for (const buffer of message.buffers) {\n",
              "            buffers.push(buffer);\n",
              "            downloaded += buffer.byteLength;\n",
              "            progress.value = downloaded;\n",
              "          }\n",
              "        }\n",
              "      }\n",
              "      const blob = new Blob(buffers, {type: 'application/binary'});\n",
              "      const a = document.createElement('a');\n",
              "      a.href = window.URL.createObjectURL(blob);\n",
              "      a.download = filename;\n",
              "      div.appendChild(a);\n",
              "      a.click();\n",
              "      div.remove();\n",
              "    }\n",
              "  "
            ]
          },
          "metadata": {}
        },
        {
          "output_type": "display_data",
          "data": {
            "text/plain": [
              "<IPython.core.display.Javascript object>"
            ],
            "application/javascript": [
              "download(\"download_0479f1e1-7f4b-44c5-88e4-98d33eac6bd0\", \"cleaned_airbnb.csv\", 5401)"
            ]
          },
          "metadata": {}
        },
        {
          "output_type": "display_data",
          "data": {
            "text/plain": [
              "<IPython.core.display.Javascript object>"
            ],
            "application/javascript": [
              "\n",
              "    async function download(id, filename, size) {\n",
              "      if (!google.colab.kernel.accessAllowed) {\n",
              "        return;\n",
              "      }\n",
              "      const div = document.createElement('div');\n",
              "      const label = document.createElement('label');\n",
              "      label.textContent = `Downloading \"${filename}\": `;\n",
              "      div.appendChild(label);\n",
              "      const progress = document.createElement('progress');\n",
              "      progress.max = size;\n",
              "      div.appendChild(progress);\n",
              "      document.body.appendChild(div);\n",
              "\n",
              "      const buffers = [];\n",
              "      let downloaded = 0;\n",
              "\n",
              "      const channel = await google.colab.kernel.comms.open(id);\n",
              "      // Send a message to notify the kernel that we're ready.\n",
              "      channel.send({})\n",
              "\n",
              "      for await (const message of channel.messages) {\n",
              "        // Send a message to notify the kernel that we're ready.\n",
              "        channel.send({})\n",
              "        if (message.buffers) {\n",
              "          for (const buffer of message.buffers) {\n",
              "            buffers.push(buffer);\n",
              "            downloaded += buffer.byteLength;\n",
              "            progress.value = downloaded;\n",
              "          }\n",
              "        }\n",
              "      }\n",
              "      const blob = new Blob(buffers, {type: 'application/binary'});\n",
              "      const a = document.createElement('a');\n",
              "      a.href = window.URL.createObjectURL(blob);\n",
              "      a.download = filename;\n",
              "      div.appendChild(a);\n",
              "      a.click();\n",
              "      div.remove();\n",
              "    }\n",
              "  "
            ]
          },
          "metadata": {}
        },
        {
          "output_type": "display_data",
          "data": {
            "text/plain": [
              "<IPython.core.display.Javascript object>"
            ],
            "application/javascript": [
              "download(\"download_2c48784b-67ed-4fc3-9326-e13bedffd744\", \"cleaned_youtube.csv\", 56817114)"
            ]
          },
          "metadata": {}
        }
      ]
    }
  ],
  "metadata": {
    "colab": {
      "provenance": []
    },
    "kernelspec": {
      "display_name": "Python 3",
      "name": "python3"
    },
    "language_info": {
      "name": "python"
    }
  },
  "nbformat": 4,
  "nbformat_minor": 0
}